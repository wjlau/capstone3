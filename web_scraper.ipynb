{
 "cells": [
  {
   "cell_type": "code",
   "execution_count": 1,
   "id": "improved-progressive",
   "metadata": {},
   "outputs": [],
   "source": [
    "import pandas as pd\n",
    "import numpy as np\n",
    "import pprint\n",
    "import string\n",
    "import re\n",
    "import matplotlib.pyplot as plt\n",
    "\n",
    "from pymongo import MongoClient\n",
    "\n",
    "from bs4 import BeautifulSoup\n",
    "import requests\n",
    "\n",
    "import json"
   ]
  },
  {
   "cell_type": "markdown",
   "id": "saved-superior",
   "metadata": {},
   "source": [
    "## Request the webpage's raw HTML"
   ]
  },
  {
   "cell_type": "markdown",
   "id": "three-royalty",
   "metadata": {},
   "source": [
    "In order to get each player's career \"per game\" stats, we need to iterate through the alphabet and individually click on each player's name. This may be messy to do given that at the end of each alphabet, we must go back to the player directory landing page and click the next letter. Instead - lets iterate through the alphabet (links are consistent with the /'letter' changing i.e. https://www.basketball-reference.com/players/a/) and grab the list of hyperlinks per alphabet and then iterate through those individual player links to get the html. "
   ]
  },
  {
   "cell_type": "code",
   "execution_count": 2,
   "id": "wooden-czech",
   "metadata": {},
   "outputs": [],
   "source": [
    "player_directory_url = []\n",
    "for letter in string.ascii_lowercase:\n",
    "    player_directory_url.append('https://www.basketball-reference.com/players/'+letter)"
   ]
  },
  {
   "cell_type": "code",
   "execution_count": 3,
   "id": "inside-relations",
   "metadata": {},
   "outputs": [],
   "source": [
    "def get_player_url(directory):\n",
    "    \n",
    "    individual_player_url = []\n",
    "    \n",
    "    for url in directory:\n",
    "        page = requests.get(url)\n",
    "        soup = BeautifulSoup(page.text,'html.parser')\n",
    "        \n",
    "        for row in soup.find_all('tr'):\n",
    "            #skip first row of chart \n",
    "            if row.a != None:\n",
    "                href = row.a.get('href')\n",
    "                individual_player_url.append('https://www.basketball-reference.com'+href)\n",
    "    return individual_player_url"
   ]
  },
  {
   "cell_type": "code",
   "execution_count": 4,
   "id": "editorial-printer",
   "metadata": {},
   "outputs": [],
   "source": [
    "a_z_all_player_urls = get_player_url(player_directory_url)"
   ]
  },
  {
   "cell_type": "code",
   "execution_count": 5,
   "id": "meaningful-ordinary",
   "metadata": {},
   "outputs": [
    {
     "data": {
      "text/plain": [
       "'https://www.basketball-reference.com/players/a/abdelal01.html'"
      ]
     },
     "execution_count": 5,
     "metadata": {},
     "output_type": "execute_result"
    }
   ],
   "source": [
    "a_z_all_player_urls[0]"
   ]
  },
  {
   "cell_type": "markdown",
   "id": "standing-indianapolis",
   "metadata": {},
   "source": [
    "If they played in both ABA and NBA - then their NBA score is the second row"
   ]
  },
  {
   "cell_type": "code",
   "execution_count": 6,
   "id": "second-tyler",
   "metadata": {},
   "outputs": [],
   "source": [
    "c = requests.get(a_z_all_player_urls[0])\n",
    "soup = BeautifulSoup(c.text,'html.parser')"
   ]
  },
  {
   "cell_type": "code",
   "execution_count": 7,
   "id": "cathedral-animal",
   "metadata": {},
   "outputs": [],
   "source": [
    "test = soup.find_all(id = 'all_per_game')[0]"
   ]
  },
  {
   "cell_type": "code",
   "execution_count": 8,
   "id": "prescribed-painting",
   "metadata": {},
   "outputs": [],
   "source": [
    "x = test.find_all('tfoot')[0]"
   ]
  },
  {
   "cell_type": "code",
   "execution_count": 29,
   "id": "consolidated-girlfriend",
   "metadata": {},
   "outputs": [],
   "source": [
    "#initialize column lists\n",
    "G, GS, MP, FG, FGA, FGPercentage, Three_P, Three_PA, Three_P_Percentage, Two_P, Two_PA, Two_P_Percentage, \\\n",
    "EFG_Percentage, FT, FTA, FT_Percentage, ORB, DRB, TRB, AST, STL, BLK, TOV, PF, PTS = ([], ) * 25\n",
    "\n",
    "#list of columns\n",
    "columns = [G, GS, MP, FG, FGA, FGPercentage, Three_P, Three_PA, Three_P_Percentage, Two_P, Two_PA, Two_P_Percentage, \\\n",
    "EFG_Percentage, FT, FTA, FT_Percentage, ORB, DRB, TRB, AST, STL, BLK, TOV, PF, PTS]\n",
    "\n",
    "    \n"
   ]
  },
  {
   "cell_type": "code",
   "execution_count": 30,
   "id": "ongoing-craft",
   "metadata": {},
   "outputs": [],
   "source": [
    "if 'ABA' in x.find_all('tr')[0].text:\n",
    "    for val,col in zip(x.find_all('tr')[1].find_all('td')[4:], columns):\n",
    "        print(val)\n",
    "else:\n",
    "    for val,col in zip(x.find_all('tr')[0].find_all('td')[4:], columns):\n",
    "        col.append(val)"
   ]
  },
  {
   "cell_type": "code",
   "execution_count": null,
   "id": "concerned-consumption",
   "metadata": {},
   "outputs": [],
   "source": []
  },
  {
   "cell_type": "code",
   "execution_count": null,
   "id": "quiet-swiss",
   "metadata": {},
   "outputs": [],
   "source": []
  },
  {
   "cell_type": "code",
   "execution_count": null,
   "id": "lesser-azerbaijan",
   "metadata": {},
   "outputs": [],
   "source": []
  }
 ],
 "metadata": {
  "kernelspec": {
   "display_name": "Python 3",
   "language": "python",
   "name": "python3"
  },
  "language_info": {
   "codemirror_mode": {
    "name": "ipython",
    "version": 3
   },
   "file_extension": ".py",
   "mimetype": "text/x-python",
   "name": "python",
   "nbconvert_exporter": "python",
   "pygments_lexer": "ipython3",
   "version": "3.7.10"
  }
 },
 "nbformat": 4,
 "nbformat_minor": 5
}
